{
 "cells": [
  {
   "cell_type": "markdown",
   "metadata": {},
   "source": [
    "## Определение параметров для GridSearchCV"
   ]
  },
  {
   "cell_type": "code",
   "execution_count": null,
   "metadata": {
    "vscode": {
     "languageId": "plaintext"
    }
   },
   "outputs": [],
   "source": [
    "# Пример с StandardScaler и GridSearchCV\n",
    "pipeline = Pipeline([\n",
    "    ('scaler', StandardScaler()),  # Шаг масштабирования\n",
    "    ('xgb', xgb.XGBRegressor())   # Шаг моделирования\n",
    "])\n",
    "\n",
    "param_grid = {\n",
    "    'xgb__objective': ['reg:squarederror'],\n",
    "    'xgb__booster': ['gblinear'],\n",
    "    'xgb__learning_rate': [0.01, 0.1],\n",
    "    'xgb__n_estimators': [100, 200, 300],\n",
    "    'xgb__learning_rate': [0.01, 0.05, 0.1],\n",
    "    'xgb__reg_alpha': [0, 0.1, 0.5],\n",
    "    'xgb__reg_lambda': [0, 0.1, 0.5]\n",
    "}\n",
    "\n",
    "grid_search = GridSearchCV(pipeline,\n",
    "                           param_grid=param_grid,\n",
    "                           scoring='neg_mean_squared_error',\n",
    "                           cv=5,\n",
    "                           n_jobs=-1)\n",
    "\n",
    "grid_search.fit(X_train, y_train)"
   ]
  },
  {
   "cell_type": "code",
   "execution_count": null,
   "metadata": {
    "vscode": {
     "languageId": "plaintext"
    }
   },
   "outputs": [],
   "source": [
    "# 6. Обучение GridSearchCV на обучающей выборке\n",
    "grid_search.fit(X_train, y_train)\n",
    "\n",
    "# 7. Вывод лучших параметров\n",
    "print(\"Лучшие параметры:\", grid_search.best_params_)\n",
    "\n",
    "# 8. Получение лучшей модели\n",
    "best_model = grid_search.best_estimator_\n",
    "\n",
    "# 9. Предсказание на тестовой выборке\n",
    "y_pred = best_model.predict(X_test)\n",
    "\n",
    "# 10. Оценка производительности на тестовой выборке\n",
    "from sklearn.metrics import mean_squared_error\n",
    "rmse = np.sqrt(mean_squared_error(y_test, y_pred))\n",
    "print(\"RMSE на тестовой выборке:\", rmse)"
   ]
  },
  {
   "cell_type": "markdown",
   "metadata": {},
   "source": [
    "# Пример с MinMaxScaler и GridSearchCV"
   ]
  },
  {
   "cell_type": "markdown",
   "metadata": {},
   "source": [
    "# Пример с MinMaxScaler и GridSearchCV\n",
    "pipeline = Pipeline([\n",
    "    ('scaler', MinMaxScaler()),  # Шаг масштабирования\n",
    "    ('xgb', xgb.XGBRegressor())   # Шаг моделирования\n",
    "])\n",
    "\n",
    "param_grid = {\n",
    "    'xgb__objective': ['reg:squarederror'],\n",
    "    'xgb__booster': ['gblinear'],\n",
    "    'xgb__learning_rate': [0.01, 0.1],\n",
    "    'xgb__n_estimators': [100, 200, 300],\n",
    "    'xgb__learning_rate': [0.01, 0.05, 0.1],\n",
    "    'xgb__reg_alpha': [0, 0.1, 0.5],\n",
    "    'xgb__reg_lambda': [0, 0.1, 0.5]\n",
    "}\n",
    "\n",
    "grid_search = GridSearchCV(pipeline,\n",
    "                           param_grid=param_grid,\n",
    "                           scoring='neg_mean_squared_error',\n",
    "                           cv=5,\n",
    "                           n_jobs=-1)\n",
    "\n",
    "grid_search.fit(X_train, y_train)"
   ]
  },
  {
   "cell_type": "code",
   "execution_count": null,
   "metadata": {
    "vscode": {
     "languageId": "plaintext"
    }
   },
   "outputs": [],
   "source": [
    "# 6. Обучение GridSearchCV на обучающей выборке\n",
    "grid_search.fit(X_train, y_train)\n",
    "\n",
    "# 7. Вывод лучших параметров\n",
    "print(\"Лучшие параметры:\", grid_search.best_params_)\n",
    "\n",
    "# 8. Получение лучшей модели\n",
    "best_model = grid_search.best_estimator_\n",
    "\n",
    "# 9. Предсказание на тестовой выборке\n",
    "y_pred = best_model.predict(X_test)\n",
    "\n",
    "# 10. Оценка производительности на тестовой выборке\n",
    "from sklearn.metrics import mean_squared_error\n",
    "rmse = np.sqrt(mean_squared_error(y_test, y_pred))\n",
    "print(\"RMSE на тестовой выборке:\", rmse)"
   ]
  }
 ],
 "metadata": {
  "language_info": {
   "name": "python"
  }
 },
 "nbformat": 4,
 "nbformat_minor": 2
}
