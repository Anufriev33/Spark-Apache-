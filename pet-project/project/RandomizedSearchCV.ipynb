{
 "cells": [
  {
   "cell_type": "markdown",
   "metadata": {},
   "source": [
    "# RandomizedSearchCV"
   ]
  },
  {
   "cell_type": "code",
   "execution_count": null,
   "metadata": {
    "vscode": {
     "languageId": "plaintext"
    }
   },
   "outputs": [],
   "source": [
    "# 2. Определение параметров для RandomizedSearchCV\n",
    "# params = {\n",
    "#     'objective': ['reg:squarederror'],\n",
    "#     'booster': ['gbtree', ''],\n",
    "#     'learning_rate': [0.01, 0.05, 0.1, 0.2, 0.3],\n",
    "#     'max_depth': [3, 4, 5, 6, 7, 8],\n",
    "#     'n_estimators': [100, 200, 300, 400, 500],\n",
    "#     'subsample': [0.6, 0.7, 0.8, 0.9, 1.0],\n",
    "#     'colsample_bytree': [0.6, 0.7, 0.8, 0.9, 1.0],\n",
    "#     'reg_alpha': [0, 0.1, 0.5, 1],\n",
    "#     'reg_lambda': [0, 0.1, 0.5, 1] параметры для деревья"
   ]
  },
  {
   "cell_type": "code",
   "execution_count": null,
   "metadata": {
    "vscode": {
     "languageId": "plaintext"
    }
   },
   "outputs": [],
   "source": [
    "# 2. Определение параметров для RandomizedSearchCV\n",
    "pipeline = Pipeline([\n",
    "    ('scaler', MinMaxScaler()),  # Шаг масштабирования\n",
    "    ('xgb', xgb.XGBRegressor())   # Шаг моделирования\n",
    "])\n",
    "\n",
    "params = {\n",
    "    'objective': ['reg:squarederror'],\n",
    "    'booster': ['gblinear'],  # Использовать линейную модель\n",
    "    'learning_rate': [0.01, 0.05, 0.1, 0.2, 0.3],\n",
    "    'n_estimators': [100, 200, 300, 400, 500],\n",
    "    'reg_alpha': [0, 0.1, 0.5, 1],\n",
    "    'reg_lambda': [0, 0.1, 0.5, 1]\n",
    "}\n",
    "\n",
    "\n",
    "# 3. Создание объекта XGBRegressor\n",
    "xgb_model = xgb.XGBRegressor(random_state=42)\n",
    "\n",
    "# 4. Настройка RandomizedSearchCV\n",
    "n_folds = 5 #  Оптимально  использовать StratifiedKFold, но для регрессии это не всегда применимо\n",
    "random_search = RandomizedSearchCV(xgb_model,\n",
    "                                   param_distributions=params,\n",
    "                                   n_iter=100,  # Количество итераций случайного поиска\n",
    "                                   scoring='neg_mean_squared_error',\n",
    "                                   cv=n_folds,\n",
    "                                   verbose=1,\n",
    "                                   random_state=42,\n",
    "                                   n_jobs=-1)  #  Используйте все доступные ядра\n",
    "\n",
    "# 5. Обучение RandomizedSearchCV\n",
    "random_search.fit(X_train, y_train)"
   ]
  },
  {
   "cell_type": "code",
   "execution_count": null,
   "metadata": {
    "vscode": {
     "languageId": "plaintext"
    }
   },
   "outputs": [],
   "source": [
    "# 6. Вывод лучших параметров\n",
    "print(\"Лучшие параметры:\", random_search.best_params_)\n",
    "\n",
    "# 7. Получение лучшей модели\n",
    "best_model = random_search.best_estimator_\n",
    "\n",
    "# 8. Предсказание на тестовой выборке\n",
    "y_pred = best_model.predict(X_test)\n",
    "\n",
    "# 9. Оценка качества модели\n",
    "rmse = np.sqrt(mean_squared_error(y_test, y_pred))\n",
    "print(\"RMSE на тестовой выборке:\", rmse)"
   ]
  },
  {
   "cell_type": "markdown",
   "metadata": {},
   "source": []
  },
  {
   "cell_type": "code",
   "execution_count": null,
   "metadata": {
    "vscode": {
     "languageId": "plaintext"
    }
   },
   "outputs": [],
   "source": [
    "# 3. Создание Pipeline\n",
    "pipeline = Pipeline([\n",
    "    ('scaler', MinMaxScaler()),  # Шаг масштабирования\n",
    "    ('xgb', xgb.XGBRegressor())   # Шаг моделирования\n",
    "])\n",
    "\n",
    "# 4. Определение параметров для RandomizedSearchCV\n",
    "params = {\n",
    "    'xgb__objective': ['reg:squarederror'],\n",
    "    'xgb__booster': ['gblinear'],  # Использовать линейную модель\n",
    "    'xgb__learning_rate': [0.01, 0.05, 0.1, 0.2, 0.3],\n",
    "    'xgb__n_estimators': [100, 200, 300, 400, 500],\n",
    "    'xgb__reg_alpha': [0, 0.1, 0.5, 1],\n",
    "    'xgb__reg_lambda': [0, 0.1, 0.5, 1]\n",
    "}\n",
    "\n",
    "# 5. Настройка RandomizedSearchCV\n",
    "n_folds = 5\n",
    "random_search = RandomizedSearchCV(pipeline,\n",
    "                                   param_distributions=params,\n",
    "                                   n_iter=100,\n",
    "                                   scoring='neg_mean_squared_error',\n",
    "                                   cv=n_folds,\n",
    "                                   verbose=1,\n",
    "                                   random_state=42,\n",
    "                                   n_jobs=-1)\n",
    "\n",
    "# 6. Обучение RandomizedSearchCV\n",
    "random_search.fit(X_train, y_train)\n",
    "\n",
    "# 7. Вывод лучших параметров\n",
    "print(\"Лучшие параметры:\", random_search.best_params_)\n",
    "\n",
    "# 8. Получение лучшей модели\n",
    "best_model = random_search.best_estimator_\n",
    "\n",
    "# 9. Предсказание на обучающей выборке\n",
    "y_train_pred = best_model.predict(X_train)\n",
    "\n",
    "# 10. Предсказание на тестовой выборке\n",
    "y_test_pred = best_model.predict(X_test)\n",
    "\n",
    "# 11. Оценка качества модели\n",
    "rmse_train = np.sqrt(mean_squared_error(y_train, y_train_pred))\n",
    "rmse_test = np.sqrt(mean_squared_error(y_test, y_test_pred))\n",
    "print(f\"RMSE на обучающей выборке: {rmse_train}\")\n",
    "print(f\"RMSE на тестовой выборке: {rmse_test}\")\n"
   ]
  }
 ],
 "metadata": {
  "language_info": {
   "name": "python"
  }
 },
 "nbformat": 4,
 "nbformat_minor": 2
}
