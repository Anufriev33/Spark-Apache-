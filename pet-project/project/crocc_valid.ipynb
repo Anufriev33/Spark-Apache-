{
 "cells": [
  {
   "cell_type": "markdown",
   "metadata": {},
   "source": [
    "# Кросс валидация"
   ]
  },
  {
   "cell_type": "code",
   "execution_count": null,
   "metadata": {
    "vscode": {
     "languageId": "plaintext"
    }
   },
   "outputs": [],
   "source": [
    " Создаем DMatrix\n",
    "dtrain = xgb.DMatrix(X_train, label=y_train)\n",
    "dtest = xgb.DMatrix(X_test, label=y_test)  # Добавили метки для тестовой выборки\n",
    "\n",
    "# Задаем параметры\n",
    "params = {\n",
    "    'objective': 'reg:squarederror',\n",
    "    'booster': 'gblinear'  \n",
    "}\n",
    "trees = 1000\n",
    "\n",
    "# Кросс-валидация\n",
    "cv = xgb.cv(params, dtrain, metrics='rmse', nfold=10, num_boost_round=trees, verbose_eval=False)\n",
    "\n",
    "# Обучение модели с оптимальным числом деревьев\n",
    "best_n_estimators = cv['test-rmse-mean'].argmin()\n",
    "bst = xgb.train(params, dtrain, num_boost_round=best_n_estimators,\n",
    "                evals=[(dtrain, 'train'), (dtest, 'eval')],  # Добавили eval_set\n",
    "                early_stopping_rounds=50) # Добавили early_stopping\n",
    "\n",
    "# Прогноз на обучающем наборе\n",
    "prediction_train = bst.predict(dtrain)\n",
    "#  Оценка качества модели на обучающем наборе\n",
    "rmse_train = np.sqrt(mean_squared_error(y_train, prediction_train)) # Исправили ошибку\n",
    "mae_train = mean_absolute_error(y_train, prediction_train) # Исправили ошибку\n",
    "print(f'RMSE (Train): {rmse_train}')\n",
    "print(f'MAE (Train): {mae_train}')\n",
    "\n",
    "# Прогноз на тестовом наборе\n",
    "prediction_test = bst.predict(dtest)\n",
    "# Оценка качества модели на тестовом наборе\n",
    "rmse_test = np.sqrt(mean_squared_error(y_test, prediction_test)) # Исправили ошибку\n",
    "mae_test = mean_absolute_error(y_test, prediction_test) # Исправили ошибку\n",
    "print(f'RMSE (Test): {rmse_test}')\n",
    "print(f'MAE (Test): {mae_test}')"
   ]
  },
  {
   "cell_type": "code",
   "execution_count": null,
   "metadata": {
    "vscode": {
     "languageId": "plaintext"
    }
   },
   "outputs": [],
   "source": [
    "# График для тестового набора\n",
    "plt.figure(figsize=(15, 5))\n",
    "plt.plot(prediction_test, label='Predicted (Test)', color='green')\n",
    "plt.plot(lower, 'r--', label='Lower Bound', color='red')\n",
    "plt.plot(upper, 'r--', label='Upper Bound', color='red')\n",
    "plt.plot(y_test.values, label='Actual (Test)', color='orange')\n",
    "plt.title(f\"XGBoost Mean Absolute Error: {round(mean_absolute_error(prediction_test, y_test), 2)}\")\n",
    "plt.xlabel('Samples')\n",
    "plt.ylabel('Values')\n",
    "plt.legend(loc='best')\n",
    "plt.grid(True)\n",
    "plt.tight_layout()\n",
    "plt.show()"
   ]
  }
 ],
 "metadata": {
  "language_info": {
   "name": "python"
  }
 },
 "nbformat": 4,
 "nbformat_minor": 2
}
